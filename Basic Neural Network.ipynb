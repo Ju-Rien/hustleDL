{
 "cells": [
  {
   "cell_type": "code",
   "execution_count": 1,
   "metadata": {},
   "outputs": [],
   "source": [
    "import numpy as np"
   ]
  },
  {
   "cell_type": "markdown",
   "metadata": {},
   "source": [
    "# Simple stupid network (Chapter 1-3)"
   ]
  },
  {
   "cell_type": "code",
   "execution_count": 37,
   "metadata": {},
   "outputs": [],
   "source": [
    "ih_wgt = np.array([\n",
    "            [0.1, 0.2, -0.1],\n",
    "            [-0.1, 0.1, 0.9],\n",
    "            [0.1, 0.4, 0.1]]).T\n",
    "ho_wgt = np.array([\n",
    "            [0.3, 1.1, -0.3],\n",
    "            [0.1, 0.2, 0.0],\n",
    "            [0.0, 1.3, 0.1]]).T\n",
    "weights = [ih_wgt, ho_wgt]"
   ]
  },
  {
   "cell_type": "code",
   "execution_count": 41,
   "metadata": {},
   "outputs": [],
   "source": [
    "def neural_network(input_, weights):\n",
    "    hid = input_.dot(weights[0])\n",
    "    pred = hid.dot(weights[1])\n",
    "    return pred\n",
    "\n",
    "\n",
    "def sigma(x):\n",
    "    return x\n",
    "\n",
    "\n",
    "def w_sum(a, b):\n",
    "    assert(len(a) == len(b))\n",
    "    \n",
    "    output = 0\n",
    "    \n",
    "    for i in range(len(a)):\n",
    "        output += (a[i] * b[i])\n",
    "        \n",
    "    return output\n",
    "\n",
    "\n",
    "def ele_mul(a, vec):\n",
    "    output = [0] * len(vec)\n",
    "    \n",
    "    for i in range(len(vec)):\n",
    "        output[i] = a*vec[i]\n",
    "        \n",
    "    return output\n",
    "\n",
    "\n",
    "def vect_mat_mul(input_, weights):\n",
    "    output = [0] * len(weights)\n",
    "    \n",
    "    for i in range(len(weights)):\n",
    "        output[i] = w_sum(input_, weights[i])\n",
    "    \n",
    "    return output\n",
    "\n"
   ]
  },
  {
   "cell_type": "code",
   "execution_count": 42,
   "metadata": {},
   "outputs": [],
   "source": [
    "data1 = np.array([8.5, 9.5, 10, 9])\n",
    "data2 = np.array([0.65, 0.8, 0.8, 0.9])\n",
    "data3 = np.array([1.2, 1.3, 0.5, 1.0])\n",
    "\n",
    "input_ = np.array([data1[0], data2[0], data3[0]])\n",
    "pred = neural_network(input_, weights)"
   ]
  },
  {
   "cell_type": "code",
   "execution_count": 43,
   "metadata": {},
   "outputs": [
    {
     "data": {
      "text/plain": [
       "array([0.2135, 0.145 , 0.5065])"
      ]
     },
     "execution_count": 43,
     "metadata": {},
     "output_type": "execute_result"
    }
   ],
   "source": [
    "pred"
   ]
  },
  {
   "cell_type": "markdown",
   "metadata": {},
   "source": [
    "# Simple learning network (Chapter 4-)"
   ]
  },
  {
   "cell_type": "code",
   "execution_count": 5,
   "metadata": {},
   "outputs": [],
   "source": [
    "def neural_network(input_, weight):\n",
    "    pred = input_ * wgt\n",
    "    return pred"
   ]
  },
  {
   "cell_type": "code",
   "execution_count": 18,
   "metadata": {},
   "outputs": [
    {
     "name": "stdout",
     "output_type": "stream",
     "text": [
      "Error:0.30250000000000005 Prediction:0.25\n",
      "Error:0.17015625000000004 Prediction:0.3875\n",
      "Error:0.095712890625 Prediction:0.49062500000000003\n",
      "Error:0.05383850097656251 Prediction:0.56796875\n",
      "Error:0.03028415679931642 Prediction:0.6259765625\n",
      "Error:0.0170348381996155 Prediction:0.669482421875\n",
      "Error:0.00958209648728372 Prediction:0.70211181640625\n",
      "Error:0.005389929274097089 Prediction:0.7265838623046875\n",
      "Error:0.0030318352166796153 Prediction:0.7449378967285156\n",
      "Error:0.0017054073093822882 Prediction:0.7587034225463867\n",
      "Error:0.0009592916115275371 Prediction:0.76902756690979\n",
      "Error:0.0005396015314842384 Prediction:0.7767706751823426\n",
      "Error:0.000303525861459885 Prediction:0.7825780063867569\n",
      "Error:0.00017073329707118678 Prediction:0.7869335047900676\n",
      "Error:9.603747960254256e-05 Prediction:0.7902001285925507\n",
      "Error:5.402108227642978e-05 Prediction:0.7926500964444131\n",
      "Error:3.038685878049206e-05 Prediction:0.7944875723333098\n",
      "Error:1.7092608064027242e-05 Prediction:0.7958656792499823\n",
      "Error:9.614592036015323e-06 Prediction:0.7968992594374867\n",
      "Error:5.408208020258491e-06 Prediction:0.7976744445781151\n",
      "Error:3.0421170113954975e-06 Prediction:0.7982558334335863\n",
      "Error:1.7111908189101127e-06 Prediction:0.7986918750751897\n",
      "Error:9.625448356369383e-07 Prediction:0.7990189063063923\n",
      "Error:5.41431470045737e-07 Prediction:0.7992641797297942\n",
      "Error:3.045552019007577e-07 Prediction:0.7994481347973457\n",
      "Error:1.7131230106922215e-07 Prediction:0.7995861010980092\n",
      "Error:9.636316935140299e-08 Prediction:0.799689575823507\n",
      "Error:5.420428276019003e-08 Prediction:0.7997671818676302\n",
      "Error:3.048990905260689e-08 Prediction:0.7998253864007226\n",
      "Error:1.715057384208411e-08 Prediction:0.799869039800542\n",
      "Error:9.647197786166859e-09 Prediction:0.7999017798504066\n",
      "Error:5.426548754714769e-09 Prediction:0.799926334887805\n",
      "Error:3.0524336745270573e-09 Prediction:0.7999447511658537\n",
      "Error:1.71699394192147e-09 Prediction:0.7999585633743903\n",
      "Error:9.658090923291016e-10 Prediction:0.7999689225307928\n",
      "Error:5.432676144338258e-10 Prediction:0.7999766918980946\n",
      "Error:3.05588033119027e-10 Prediction:0.799982518923571\n",
      "Error:1.718932686294527e-10 Prediction:0.7999868891926782\n",
      "Error:9.668996360515884e-11 Prediction:0.7999901668945086\n"
     ]
    },
    {
     "data": {
      "text/plain": [
       "1.599985250341763"
      ]
     },
     "execution_count": 18,
     "metadata": {},
     "output_type": "execute_result"
    }
   ],
   "source": [
    "wgt = 0.5\n",
    "ϵ = 1e-10\n",
    "\n",
    "x = 0.5\n",
    "y = 0.8 \n",
    "\n",
    "\n",
    "for iteration in range(1101):\n",
    "    pred = neural_network(x, wgt)\n",
    "    error = (pred - y) ** 2\n",
    "    Δ = pred - y\n",
    "    \n",
    "    θ = Δ * x\n",
    "    wgt =wgt - θ\n",
    "    \n",
    "    print(\"Error:\" + str(error) + \" Prediction:\" + str(pred))\n",
    "    \n",
    "    if error < ϵ:\n",
    "        break\n",
    "\n",
    "wgt"
   ]
  },
  {
   "cell_type": "code",
   "execution_count": null,
   "metadata": {},
   "outputs": [],
   "source": []
  }
 ],
 "metadata": {
  "kernelspec": {
   "display_name": "Python 3",
   "language": "python",
   "name": "python3"
  },
  "language_info": {
   "codemirror_mode": {
    "name": "ipython",
    "version": 3
   },
   "file_extension": ".py",
   "mimetype": "text/x-python",
   "name": "python",
   "nbconvert_exporter": "python",
   "pygments_lexer": "ipython3",
   "version": "3.6.9"
  }
 },
 "nbformat": 4,
 "nbformat_minor": 2
}
