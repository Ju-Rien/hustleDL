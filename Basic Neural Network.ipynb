{
 "cells": [
  {
   "cell_type": "code",
   "execution_count": 2,
   "metadata": {},
   "outputs": [],
   "source": [
    "import numpy as np"
   ]
  },
  {
   "cell_type": "markdown",
   "metadata": {},
   "source": [
    "# Simple learning network (Chapter 4-5-)"
   ]
  },
  {
   "cell_type": "code",
   "execution_count": 22,
   "metadata": {},
   "outputs": [],
   "source": [
    "def neural_network(input_, weight):\n",
    "    pred = wgt.dot(input_)\n",
    "    return pred"
   ]
  },
  {
   "cell_type": "code",
   "execution_count": 55,
   "metadata": {},
   "outputs": [
    {
     "name": "stdout",
     "output_type": "stream",
     "text": [
      "------------------\n",
      "Error: [1.3225 1.     0.49  ]\n",
      "Prediction:[0. 0. 0.]\n",
      "Δ: [-1.15 -1.   -0.7 ]\n",
      "θs: [[-9.775  -8.5    -5.95  ]\n",
      " [-0.7475 -0.65   -0.455 ]\n",
      " [-1.38   -1.2    -0.84  ]]\n",
      "wgt: [[0.1955  0.17    0.119  ]\n",
      " [0.01495 0.013   0.0091 ]\n",
      " [0.0276  0.024   0.0168 ]]\n",
      "------------------\n",
      "Error: [0.02016074 0.81216302 0.26791144]\n",
      "Prediction:[1.29198853 0.09879912 0.18239838]\n",
      "Δ: [ 0.14198853 -0.90120088 -0.51760162]\n",
      "θs: [[ 1.20690251 -7.66020745 -4.39961376]\n",
      " [ 0.09229255 -0.58578057 -0.33644105]\n",
      " [ 0.17038624 -1.08144105 -0.62112194]]\n",
      "wgt: [[-24.0140095  153.36868457  88.10118689]\n",
      " [ -1.83636543  11.72819353   6.73714959]\n",
      " [ -3.39021311  21.65204959  12.43781462]]\n",
      "------------------\n",
      "Error: [0.02016074 0.81216302 0.26791144]\n",
      "Prediction:[1.29198853 0.09879912 0.18239838]\n",
      "Δ: [ 0.14198853 -0.90120088 -0.51760162]\n",
      "θs: [[ 1.20690251 -7.66020745 -4.39961376]\n",
      " [ 0.09229255 -0.58578057 -0.33644105]\n",
      " [ 0.17038624 -1.08144105 -0.62112194]]\n",
      "wgt: [[-48.15205976 306.57283367 176.09346215]\n",
      " [ -3.68221633  23.44380493  13.46597064]\n",
      " [ -6.79793785  43.28087064  24.86025348]]\n",
      "------------------\n",
      "Error: [0.02016074 0.81216302 0.26791144]\n",
      "Prediction:[1.29198853 0.09879912 0.18239838]\n",
      "Δ: [ 0.14198853 -0.90120088 -0.51760162]\n",
      "θs: [[ 1.20690251 -7.66020745 -4.39961376]\n",
      " [ 0.09229255 -0.58578057 -0.33644105]\n",
      " [ 0.17038624 -1.08144105 -0.62112194]]\n",
      "wgt: [[-72.29011002 459.77698276 264.08573741]\n",
      " [ -5.52806724  35.15941633  20.19479168]\n",
      " [-10.20566259  64.90969168  37.28269234]]\n",
      "------------------\n",
      "Error: [0.02016074 0.81216302 0.26791144]\n",
      "Prediction:[1.29198853 0.09879912 0.18239838]\n",
      "Δ: [ 0.14198853 -0.90120088 -0.51760162]\n",
      "θs: [[ 1.20690251 -7.66020745 -4.39961376]\n",
      " [ 0.09229255 -0.58578057 -0.33644105]\n",
      " [ 0.17038624 -1.08144105 -0.62112194]]\n",
      "wgt: [[-96.42816028 612.98113186 352.07801267]\n",
      " [ -7.37391814  46.87502773  26.92361273]\n",
      " [-13.61338733  86.53851273  49.7051312 ]]\n",
      "------------------\n",
      "Error: [0.02016074 0.81216302 0.26791144]\n",
      "Prediction:[1.29198853 0.09879912 0.18239838]\n",
      "Δ: [ 0.14198853 -0.90120088 -0.51760162]\n",
      "θs: [[ 1.20690251 -7.66020745 -4.39961376]\n",
      " [ 0.09229255 -0.58578057 -0.33644105]\n",
      " [ 0.17038624 -1.08144105 -0.62112194]]\n",
      "wgt: [[-120.56621054  766.18528096  440.07028792]\n",
      " [  -9.21976904   58.59063913   33.65243378]\n",
      " [ -17.02111208  108.16733378   62.12757006]]\n",
      "------------------\n",
      "Error: [0.02016074 0.81216302 0.26791144]\n",
      "Prediction:[1.29198853 0.09879912 0.18239838]\n",
      "Δ: [ 0.14198853 -0.90120088 -0.51760162]\n",
      "θs: [[ 1.20690251 -7.66020745 -4.39961376]\n",
      " [ 0.09229255 -0.58578057 -0.33644105]\n",
      " [ 0.17038624 -1.08144105 -0.62112194]]\n",
      "wgt: [[-144.7042608   919.38943006  528.06256318]\n",
      " [ -11.06561994   70.30625053   40.38125483]\n",
      " [ -20.42883682  129.79615483   74.55000892]]\n",
      "------------------\n",
      "Error: [0.02016074 0.81216302 0.26791144]\n",
      "Prediction:[1.29198853 0.09879912 0.18239838]\n",
      "Δ: [ 0.14198853 -0.90120088 -0.51760162]\n",
      "θs: [[ 1.20690251 -7.66020745 -4.39961376]\n",
      " [ 0.09229255 -0.58578057 -0.33644105]\n",
      " [ 0.17038624 -1.08144105 -0.62112194]]\n",
      "wgt: [[-168.84231106 1072.59357915  616.05483844]\n",
      " [ -12.91147085   82.02186194   47.11007588]\n",
      " [ -23.83656156  151.42497588   86.97244778]]\n",
      "------------------\n",
      "Error: [0.02016074 0.81216302 0.26791144]\n",
      "Prediction:[1.29198853 0.09879912 0.18239838]\n",
      "Δ: [ 0.14198853 -0.90120088 -0.51760162]\n",
      "θs: [[ 1.20690251 -7.66020745 -4.39961376]\n",
      " [ 0.09229255 -0.58578057 -0.33644105]\n",
      " [ 0.17038624 -1.08144105 -0.62112194]]\n",
      "wgt: [[-192.98036133 1225.79772825  704.0471137 ]\n",
      " [ -14.75732175   93.73747334   53.83889693]\n",
      " [ -27.2442863   173.05379693   99.39488664]]\n",
      "------------------\n",
      "Error: [0.02016074 0.81216302 0.26791144]\n",
      "Prediction:[1.29198853 0.09879912 0.18239838]\n",
      "Δ: [ 0.14198853 -0.90120088 -0.51760162]\n",
      "θs: [[ 1.20690251 -7.66020745 -4.39961376]\n",
      " [ 0.09229255 -0.58578057 -0.33644105]\n",
      " [ 0.17038624 -1.08144105 -0.62112194]]\n",
      "wgt: [[-217.11841159 1379.00187735  792.03938895]\n",
      " [ -16.60317265  105.45308474   60.56771798]\n",
      " [ -30.65201105  194.68261798  111.8173255 ]]\n"
     ]
    },
    {
     "data": {
      "text/plain": [
       "array([[-241.2323238 , 1532.0528223 ,  879.94367193],\n",
       "       [ -18.4471777 ,  117.15698053,   67.28981021],\n",
       "       [ -34.05632807,  216.28981021,  124.22734192]])"
      ]
     },
     "execution_count": 55,
     "metadata": {},
     "output_type": "execute_result"
    }
   ],
   "source": [
    "wgt = np.zeros((3,3))\n",
    "\n",
    "data1 = np.array([8.5, 9.5, 10, 9])\n",
    "data2 = np.array([0.65, 0.8, 0.8, 0.9])\n",
    "data3 = np.array([1.2, 1.3, 0.5, 1.0])\n",
    "\n",
    "x = np.array([data1[0], data2[0], data3[0]])\n",
    "y = np.array([1.15, 1., 0.7])\n",
    "\n",
    "α = 0.02\n",
    "ϵ = 1e-10\n",
    "\n",
    "error = np.array([0., 0, 0])\n",
    "Δ = np.array([0., 0, 0])\n",
    "              \n",
    "for iteration in range(10000):\n",
    "    pred = neural_network(x, wgt)\n",
    "    \n",
    "    Δ = pred - y\n",
    "    \n",
    "    for i in range(len(y)):\n",
    "        error[i] = (Δ[i] ** 2)\n",
    "        \n",
    "    θs = np.outer(x,Δ)\n",
    "    \n",
    "    wgt = wgt - (α * θs)\n",
    "    \n",
    "    if iteration % 1000 == 0:\n",
    "        print(\"------------------\")\n",
    "        print(\"Error: \" + str(error))\n",
    "        print(\"Prediction:\" + str(pred))\n",
    "        print(\"Δ: \" + str(Δ))\n",
    "        print(\"θs: \" + str(θs))\n",
    "        print(\"wgt: \" + str(wgt))\n",
    "    \n",
    "    #if error.all() < ϵ:\n",
    "    #    break\n",
    "\n",
    "wgt"
   ]
  },
  {
   "cell_type": "markdown",
   "metadata": {},
   "source": [
    "# Basic NN applied to MNIST dataset\n",
    "Note: For now, it is a 2 layer NN, which is insuficient to have good results"
   ]
  },
  {
   "cell_type": "code",
   "execution_count": 59,
   "metadata": {},
   "outputs": [
    {
     "ename": "ValueError",
     "evalue": "shapes (784,10) and (28,28) not aligned: 10 (dim 1) != 28 (dim 0)",
     "output_type": "error",
     "traceback": [
      "\u001b[0;31m---------------------------------------------------------------------------\u001b[0m",
      "\u001b[0;31mValueError\u001b[0m                                Traceback (most recent call last)",
      "\u001b[0;32m<ipython-input-59-94bb6d4e09bd>\u001b[0m in \u001b[0;36m<module>\u001b[0;34m\u001b[0m\n\u001b[1;32m     20\u001b[0m \u001b[0;34m\u001b[0m\u001b[0m\n\u001b[1;32m     21\u001b[0m     \u001b[0;32mfor\u001b[0m \u001b[0miteration\u001b[0m \u001b[0;32min\u001b[0m \u001b[0mrange\u001b[0m\u001b[0;34m(\u001b[0m\u001b[0;36m1000\u001b[0m\u001b[0;34m)\u001b[0m\u001b[0;34m:\u001b[0m\u001b[0;34m\u001b[0m\u001b[0;34m\u001b[0m\u001b[0m\n\u001b[0;32m---> 22\u001b[0;31m         \u001b[0mpred\u001b[0m \u001b[0;34m=\u001b[0m \u001b[0mneural_network\u001b[0m\u001b[0;34m(\u001b[0m\u001b[0mx\u001b[0m\u001b[0;34m,\u001b[0m \u001b[0mwgt\u001b[0m\u001b[0;34m)\u001b[0m\u001b[0;34m\u001b[0m\u001b[0;34m\u001b[0m\u001b[0m\n\u001b[0m\u001b[1;32m     23\u001b[0m \u001b[0;34m\u001b[0m\u001b[0m\n\u001b[1;32m     24\u001b[0m         \u001b[0mΔ\u001b[0m \u001b[0;34m=\u001b[0m \u001b[0mpred\u001b[0m \u001b[0;34m-\u001b[0m \u001b[0my\u001b[0m\u001b[0;34m\u001b[0m\u001b[0;34m\u001b[0m\u001b[0m\n",
      "\u001b[0;32m<ipython-input-22-853cf3c7cb42>\u001b[0m in \u001b[0;36mneural_network\u001b[0;34m(input_, weight)\u001b[0m\n\u001b[1;32m      1\u001b[0m \u001b[0;32mdef\u001b[0m \u001b[0mneural_network\u001b[0m\u001b[0;34m(\u001b[0m\u001b[0minput_\u001b[0m\u001b[0;34m,\u001b[0m \u001b[0mweight\u001b[0m\u001b[0;34m)\u001b[0m\u001b[0;34m:\u001b[0m\u001b[0;34m\u001b[0m\u001b[0;34m\u001b[0m\u001b[0m\n\u001b[0;32m----> 2\u001b[0;31m     \u001b[0mpred\u001b[0m \u001b[0;34m=\u001b[0m \u001b[0mwgt\u001b[0m\u001b[0;34m.\u001b[0m\u001b[0mdot\u001b[0m\u001b[0;34m(\u001b[0m\u001b[0minput_\u001b[0m\u001b[0;34m)\u001b[0m\u001b[0;34m\u001b[0m\u001b[0;34m\u001b[0m\u001b[0m\n\u001b[0m\u001b[1;32m      3\u001b[0m     \u001b[0;32mreturn\u001b[0m \u001b[0mpred\u001b[0m\u001b[0;34m\u001b[0m\u001b[0;34m\u001b[0m\u001b[0m\n",
      "\u001b[0;31mValueError\u001b[0m: shapes (784,10) and (28,28) not aligned: 10 (dim 1) != 28 (dim 0)"
     ]
    }
   ],
   "source": [
    "from keras.datasets import mnist\n",
    "\n",
    "(x_train, y_train), (x_test, y_test) = mnist.load_data()\n",
    "\n",
    "images = x_train[0:1000]\n",
    "labels = y_train[0:1000]\n",
    "\n",
    "wgt = np.zeros((784,10))\n",
    "\n",
    "\n",
    "for i in range(1000):\n",
    "    x = images[i]\n",
    "    y = labels[i]\n",
    "    \n",
    "    α = 0.02\n",
    "    ϵ = 1e-10\n",
    "\n",
    "    error = np.zeros(10)\n",
    "    Δ = np.zeros(10)\n",
    "\n",
    "    for iteration in range(1000):\n",
    "        pred = neural_network(x, wgt)\n",
    "\n",
    "        Δ = pred - y\n",
    "\n",
    "        for k in range(len(y)):\n",
    "            error[k] = (Δ[k] ** 2)\n",
    "\n",
    "        θs = np.outer(x,Δ)\n",
    "\n",
    "        wgt = wgt - (α * θs)\n",
    "\n",
    "        if iteration % 100 == 0:\n",
    "            print(\"------------------\")\n",
    "            print(\"Error: \" + str(error))\n",
    "            print(\"Prediction:\" + str(pred))\n",
    "            print(\"Δ: \" + str(Δ))\n",
    "            print(\"θs: \" + str(θs))\n",
    "            print(\"wgt: \" + str(wgt))\n",
    "\n",
    "        #if error.all() < ϵ:\n",
    "        #    break\n",
    "\n",
    "wgt"
   ]
  },
  {
   "cell_type": "code",
   "execution_count": 18,
   "metadata": {},
   "outputs": [],
   "source": [
    "X = np.zeros((3,3))\n",
    "X[2] = np.array([1,2,3.])"
   ]
  },
  {
   "cell_type": "code",
   "execution_count": 19,
   "metadata": {},
   "outputs": [
    {
     "data": {
      "text/plain": [
       "array([[0., 0., 0.],\n",
       "       [0., 0., 0.],\n",
       "       [1., 2., 3.]])"
      ]
     },
     "execution_count": 19,
     "metadata": {},
     "output_type": "execute_result"
    }
   ],
   "source": [
    "X"
   ]
  },
  {
   "cell_type": "code",
   "execution_count": 20,
   "metadata": {},
   "outputs": [
    {
     "data": {
      "text/plain": [
       "array([0., 0., 6.])"
      ]
     },
     "execution_count": 20,
     "metadata": {},
     "output_type": "execute_result"
    }
   ],
   "source": [
    "X.dot(np.array([1,1,1]))"
   ]
  },
  {
   "cell_type": "code",
   "execution_count": 21,
   "metadata": {},
   "outputs": [
    {
     "data": {
      "text/plain": [
       "array([1., 2., 3.])"
      ]
     },
     "execution_count": 21,
     "metadata": {},
     "output_type": "execute_result"
    }
   ],
   "source": [
    "np.array([1,1,1]).dot(X)"
   ]
  },
  {
   "cell_type": "code",
   "execution_count": 34,
   "metadata": {},
   "outputs": [
    {
     "data": {
      "text/plain": [
       "array([[-3., -1., -4.],\n",
       "       [-6., -2., -8.],\n",
       "       [-2.,  1., -1.]])"
      ]
     },
     "execution_count": 34,
     "metadata": {},
     "output_type": "execute_result"
    }
   ],
   "source": [
    "X - np.outer(np.array([1,2,1]),np.array([3,1,4]))"
   ]
  },
  {
   "cell_type": "code",
   "execution_count": 47,
   "metadata": {},
   "outputs": [],
   "source": [
    "for i in range(3):\n",
    "    X[i] = i"
   ]
  },
  {
   "cell_type": "code",
   "execution_count": 48,
   "metadata": {},
   "outputs": [
    {
     "data": {
      "text/plain": [
       "array([[0., 0., 0.],\n",
       "       [1., 1., 1.],\n",
       "       [2., 2., 2.]])"
      ]
     },
     "execution_count": 48,
     "metadata": {},
     "output_type": "execute_result"
    }
   ],
   "source": [
    "X"
   ]
  },
  {
   "cell_type": "code",
   "execution_count": null,
   "metadata": {},
   "outputs": [],
   "source": []
  }
 ],
 "metadata": {
  "kernelspec": {
   "display_name": "Python 3",
   "language": "python",
   "name": "python3"
  },
  "language_info": {
   "codemirror_mode": {
    "name": "ipython",
    "version": 3
   },
   "file_extension": ".py",
   "mimetype": "text/x-python",
   "name": "python",
   "nbconvert_exporter": "python",
   "pygments_lexer": "ipython3",
   "version": "3.6.9"
  }
 },
 "nbformat": 4,
 "nbformat_minor": 2
}
