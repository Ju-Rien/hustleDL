{
 "cells": [
  {
   "cell_type": "code",
   "execution_count": 2,
   "metadata": {},
   "outputs": [],
   "source": [
    "import numpy as np"
   ]
  },
  {
   "cell_type": "markdown",
   "metadata": {},
   "source": [
    "# Simple stupid network (Chapter 1-3)"
   ]
  },
  {
   "cell_type": "code",
   "execution_count": 3,
   "metadata": {},
   "outputs": [],
   "source": [
    "ih_wgt = np.array([\n",
    "            [0.1, 0.2, -0.1],\n",
    "            [-0.1, 0.1, 0.9],\n",
    "            [0.1, 0.4, 0.1]]).T\n",
    "ho_wgt = np.array([\n",
    "            [0.3, 1.1, -0.3],\n",
    "            [0.1, 0.2, 0.0],\n",
    "            [0.0, 1.3, 0.1]]).T\n",
    "weights = [ih_wgt, ho_wgt]"
   ]
  },
  {
   "cell_type": "code",
   "execution_count": 4,
   "metadata": {},
   "outputs": [],
   "source": [
    "def neural_network(input_, weights):\n",
    "    hid = input_.dot(weights[0])\n",
    "    pred = hid.dot(weights[1])\n",
    "    return pred\n",
    "\n",
    "\n",
    "def sigma(x):\n",
    "    return x\n",
    "\n",
    "\n",
    "#def w_sum(a, b):\n",
    "#    assert(len(a) == len(b))\n",
    "#    \n",
    "#    output = 0\n",
    "#    \n",
    "#    for i in range(len(a)):\n",
    "#        output += (a[i] * b[i])\n",
    "#        \n",
    "#    return output\n",
    "\n",
    "\n",
    "#def ele_mul(a, vec):\n",
    "#    output = [0] * len(vec)\n",
    "#    \n",
    "#    for i in range(len(vec)):\n",
    "#        output[i] = a*vec[i]\n",
    "#        \n",
    "#    return output\n",
    "\n",
    "\n",
    "#def vect_mat_mul(input_, weights):\n",
    "#    output = [0] * len(weights)\n",
    "#    \n",
    "#    for i in range(len(weights)):\n",
    "#        output[i] = w_sum(input_, weights[i])\n",
    "#    \n",
    "#    return output\n",
    "\n"
   ]
  },
  {
   "cell_type": "code",
   "execution_count": 5,
   "metadata": {},
   "outputs": [],
   "source": [
    "data1 = np.array([8.5, 9.5, 10, 9])\n",
    "data2 = np.array([0.65, 0.8, 0.8, 0.9])\n",
    "data3 = np.array([1.2, 1.3, 0.5, 1.0])\n",
    "\n",
    "input_ = np.array([data1[0], data2[0], data3[0]])\n",
    "pred = neural_network(input_, weights)"
   ]
  },
  {
   "cell_type": "code",
   "execution_count": 6,
   "metadata": {},
   "outputs": [
    {
     "data": {
      "text/plain": [
       "array([0.2135, 0.145 , 0.5065])"
      ]
     },
     "execution_count": 6,
     "metadata": {},
     "output_type": "execute_result"
    }
   ],
   "source": [
    "pred"
   ]
  },
  {
   "cell_type": "markdown",
   "metadata": {},
   "source": [
    "# Simple learning network (Chapter 4-)"
   ]
  },
  {
   "cell_type": "code",
   "execution_count": 2,
   "metadata": {},
   "outputs": [],
   "source": [
    "def neural_network(input_, weight):\n",
    "    pred = input_ * wgt\n",
    "    return pred"
   ]
  },
  {
   "cell_type": "code",
   "execution_count": 22,
   "metadata": {},
   "outputs": [
    {
     "name": "stdout",
     "output_type": "stream",
     "text": [
      "Error:0.6400000000000001 Prediction:0.0\n",
      "Error:0.589824 Prediction:0.032\n",
      "Error:0.5435817984000001 Prediction:0.06272\n",
      "Error:0.5009649854054401 Prediction:0.0922112\n",
      "Error:0.4616893305496536 Prediction:0.120522752\n",
      "Error:0.4254928870345607 Prediction:0.14770184192\n",
      "Error:0.3921342446910511 Prediction:0.1737937682432\n",
      "Error:0.3613909199072728 Prediction:0.198842017513472\n",
      "Error:0.3330578717865426 Prediction:0.22288833681293313\n",
      "Error:0.3069461346384776 Prediction:0.24597280334041582\n",
      "Error:0.28288155768282097 Prediction:0.2681338912067992\n",
      "Error:0.26070364356048786 Prediction:0.28940853555852725\n",
      "Error:0.24026447790534552 Prediction:0.3098321941361862\n",
      "Error:0.22142774283756642 Prediction:0.32943890637073875\n",
      "Error:0.20406780779910122 Prediction:0.3482613501159092\n",
      "Error:0.18806889166765167 Prediction:0.36633089611127284\n",
      "Error:0.17332429056090778 Prediction:0.38367766026682193\n",
      "Error:0.1597356661809326 Prediction:0.4003305538561491\n",
      "Error:0.14721238995234748 Prediction:0.4163173317019031\n",
      "Error:0.13567093858008344 Prediction:0.43166463843382696\n",
      "Error:0.12503433699540492 Prediction:0.4463980528964739\n",
      "Error:0.11523164497496514 Prediction:0.46054213078061496\n",
      "Error:0.10619748400892788 Prediction:0.47412044554939037\n",
      "Error:0.09787160126262792 Prediction:0.4871556277274148\n",
      "Error:0.0901984677236379 Prediction:0.49966940261831816\n",
      "Error:0.0831269078541047 Prediction:0.5116826265135854\n",
      "Error:0.07660975827834286 Prediction:0.5232153214530421\n",
      "Error:0.07060355322932081 Prediction:0.5342867085949203\n",
      "Error:0.06506823465614207 Prediction:0.5449152402511235\n",
      "Error:0.05996688505910052 Prediction:0.5551186306410786\n",
      "Error:0.05526548127046705 Prediction:0.5649138854154354\n",
      "Error:0.05093266753886243 Prediction:0.574317329998818\n",
      "Error:0.04693954640381562 Prediction:0.5833446367988653\n",
      "Error:0.043259485965756475 Prediction:0.5920108513269107\n",
      "Error:0.03986794226604115 Prediction:0.6003304172738343\n",
      "Error:0.036742295592383505 Prediction:0.608317200582881\n",
      "Error:0.033861699617940624 Prediction:0.6159845125595658\n",
      "Error:0.031206942367894088 Prediction:0.6233451320571831\n",
      "Error:0.028760318086251204 Prediction:0.6304113267748958\n",
      "Error:0.026505509148289107 Prediction:0.6371948737038999\n",
      "Error:0.024427477231063238 Prediction:0.643707078755744\n",
      "Error:0.022512363016147886 Prediction:0.6499587956055142\n",
      "Error:0.0207473937556819 Prediction:0.6559604437812936\n",
      "Error:0.019120798085236444 Prediction:0.6617220260300418\n",
      "Error:0.01762172751535391 Prediction:0.6672531449888401\n",
      "Error:0.016240184078150168 Prediction:0.6725630191892865\n",
      "Error:0.014966953646423196 Prediction:0.677660498421715\n",
      "Error:0.013793544480543605 Prediction:0.6825540784848465\n",
      "Error:0.012712130593268997 Prediction:0.6872519153454526\n",
      "Error:0.011715499554756696 Prediction:0.6917618387316345\n"
     ]
    },
    {
     "data": {
      "text/plain": [
       "0.34804568259118457"
      ]
     },
     "execution_count": 22,
     "metadata": {},
     "output_type": "execute_result"
    }
   ],
   "source": [
    "wgt = 0.0\n",
    "\n",
    "\n",
    "x = 2\n",
    "y = 0.8\n",
    "\n",
    "α = 0.01\n",
    "ϵ = 1e-10\n",
    "\n",
    "for iteration in range(50):\n",
    "    pred = neural_network(x, wgt)\n",
    "    error = (pred - y) ** 2\n",
    "    Δ = pred - y\n",
    "    \n",
    "    θ = Δ * x\n",
    "    wgt =wgt - α * θ\n",
    "    \n",
    "    print(\"Error:\" + str(error) + \" Prediction:\" + str(pred))\n",
    "    \n",
    "    if error < ϵ:\n",
    "        break\n",
    "\n",
    "wgt"
   ]
  },
  {
   "cell_type": "code",
   "execution_count": 11,
   "metadata": {},
   "outputs": [
    {
     "data": {
      "text/plain": [
       "float"
      ]
     },
     "execution_count": 11,
     "metadata": {},
     "output_type": "execute_result"
    }
   ],
   "source": []
  },
  {
   "cell_type": "code",
   "execution_count": null,
   "metadata": {},
   "outputs": [],
   "source": []
  }
 ],
 "metadata": {
  "kernelspec": {
   "display_name": "Python 3",
   "language": "python",
   "name": "python3"
  },
  "language_info": {
   "codemirror_mode": {
    "name": "ipython",
    "version": 3
   },
   "file_extension": ".py",
   "mimetype": "text/x-python",
   "name": "python",
   "nbconvert_exporter": "python",
   "pygments_lexer": "ipython3",
   "version": "3.6.9"
  }
 },
 "nbformat": 4,
 "nbformat_minor": 2
}
