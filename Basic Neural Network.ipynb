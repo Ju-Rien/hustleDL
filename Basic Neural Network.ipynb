{
 "cells": [
  {
   "cell_type": "code",
   "execution_count": 3,
   "metadata": {},
   "outputs": [],
   "source": [
    "import Vector_Math"
   ]
  },
  {
   "cell_type": "markdown",
   "metadata": {},
   "source": [
    "# Simple prediction machine"
   ]
  },
  {
   "cell_type": "code",
   "execution_count": 4,
   "metadata": {},
   "outputs": [],
   "source": [
    "weights = [0.1, 0.2, 0]"
   ]
  },
  {
   "cell_type": "code",
   "execution_count": 5,
   "metadata": {},
   "outputs": [],
   "source": [
    "def neural_network(input_, weights):\n",
    "    prediction = sigma( w_sum(input_, weights) )\n",
    "    return prediction\n",
    "\n",
    "def sigma(x):\n",
    "    return x\n",
    "\n",
    "def w_sum(a, b):\n",
    "    assert(len(a) == len(b))\n",
    "    \n",
    "    output = 0\n",
    "    \n",
    "    for i in range(len(a)):\n",
    "        output += (a[i] * b[i])\n",
    "        \n",
    "    return output"
   ]
  },
  {
   "cell_type": "code",
   "execution_count": 6,
   "metadata": {},
   "outputs": [],
   "source": [
    "data1 = [8.5, 9.5, 10, 9]\n",
    "data2 = [0.65, 0.8, 0.8, 0.9]\n",
    "data3 = [1.2, 1.3, 0.5, 1.0]\n",
    "\n",
    "input_ = [data1[0], data2[0], data3[0]]\n",
    "pred = neural_network(input_, weights)"
   ]
  },
  {
   "cell_type": "code",
   "execution_count": 7,
   "metadata": {},
   "outputs": [
    {
     "data": {
      "text/plain": [
       "0.9800000000000001"
      ]
     },
     "execution_count": 7,
     "metadata": {},
     "output_type": "execute_result"
    }
   ],
   "source": [
    "pred"
   ]
  },
  {
   "cell_type": "code",
   "execution_count": 8,
   "metadata": {},
   "outputs": [
    {
     "name": "stdout",
     "output_type": "stream",
     "text": [
      "[0.8500000000000001, 0.13, 0.0]\n",
      "[8.6, 0.8500000000000001, 1.2]\n",
      "0.10000000000000002\n",
      "0.30000000000000004\n"
     ]
    }
   ],
   "source": [
    "print(Vector_Math.elementwise_multiplication(weights, input_))\n",
    "print(Vector_Math.elementwise_addition(weights, input_))\n",
    "print(Vector_Math.vector_average(weights))\n",
    "print(Vector_Math.vector_sum(weights))"
   ]
  },
  {
   "cell_type": "code",
   "execution_count": 10,
   "metadata": {},
   "outputs": [
    {
     "name": "stdout",
     "output_type": "stream",
     "text": [
      "0.9800000000000001\n",
      "0.9800000000000001\n"
     ]
    }
   ],
   "source": [
    "print(w_sum(weights, input_))\n",
    "print(Vector_Math.dot_product(weights, input_))"
   ]
  },
  {
   "cell_type": "code",
   "execution_count": null,
   "metadata": {},
   "outputs": [],
   "source": []
  }
 ],
 "metadata": {
  "kernelspec": {
   "display_name": "Python 3",
   "language": "python",
   "name": "python3"
  },
  "language_info": {
   "codemirror_mode": {
    "name": "ipython",
    "version": 3
   },
   "file_extension": ".py",
   "mimetype": "text/x-python",
   "name": "python",
   "nbconvert_exporter": "python",
   "pygments_lexer": "ipython3",
   "version": "3.6.9"
  }
 },
 "nbformat": 4,
 "nbformat_minor": 2
}
